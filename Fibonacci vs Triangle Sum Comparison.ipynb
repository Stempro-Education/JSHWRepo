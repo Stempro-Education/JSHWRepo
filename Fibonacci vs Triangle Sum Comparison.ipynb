{
 "cells": [
  {
   "cell_type": "code",
   "execution_count": 1,
   "metadata": {},
   "outputs": [],
   "source": [
    "import numpy as np"
   ]
  },
  {
   "cell_type": "code",
   "execution_count": 7,
   "metadata": {},
   "outputs": [],
   "source": [
    "n = 50\n",
    "f = np.zeros(n+1)\n",
    "f[0] = 0\n",
    "f[1] = 1\n",
    "for i in range(2, n+1):\n",
    "    f[i] = f[i-1]+f[i-2]\n"
   ]
  },
  {
   "cell_type": "code",
   "execution_count": 8,
   "metadata": {},
   "outputs": [
    {
     "name": "stdout",
     "output_type": "stream",
     "text": [
      "[0.000e+00 1.000e+00 3.000e+00 6.000e+00 1.000e+01 1.500e+01 2.100e+01\n",
      " 2.800e+01 3.600e+01 4.500e+01 5.500e+01 6.600e+01 7.800e+01 9.100e+01\n",
      " 1.050e+02 1.200e+02 1.360e+02 1.530e+02 1.710e+02 1.900e+02 2.100e+02\n",
      " 2.310e+02 2.530e+02 2.760e+02 3.000e+02 3.250e+02 3.510e+02 3.780e+02\n",
      " 4.060e+02 4.350e+02 4.650e+02 4.960e+02 5.280e+02 5.610e+02 5.950e+02\n",
      " 6.300e+02 6.660e+02 7.030e+02 7.410e+02 7.800e+02 8.200e+02 8.610e+02\n",
      " 9.030e+02 9.460e+02 9.900e+02 1.035e+03 1.081e+03 1.128e+03 1.176e+03\n",
      " 1.225e+03 1.275e+03]\n"
     ]
    }
   ],
   "source": [
    "t = np.zeros(n+1)\n",
    "t[0] = 0\n",
    "for j in range(1, n+1):\n",
    "    t[j] = t[j-1] + j\n",
    "print(t)"
   ]
  },
  {
   "cell_type": "code",
   "execution_count": 9,
   "metadata": {},
   "outputs": [
    {
     "name": "stdout",
     "output_type": "stream",
     "text": [
      "The fibonnaci sequence's sum is greater than the triangle sequence's sum.\n"
     ]
    }
   ],
   "source": [
    "sumF = sum(f)\n",
    "sumT = sum(t)\n",
    "if sumF > sumT:\n",
    "    print(\"The fibonnaci sequence's sum is greater than the triangle sequence's sum.\")\n",
    "elif sumF == sumT:\n",
    "    print(\"The fibonnaci sequence's sum is equal to the triangle sequence's sum.\")\n",
    "else:\n",
    "    print(\"The fibonnaci sequence's sum is less than the triangle sequence's sum.\")\n"
   ]
  },
  {
   "cell_type": "code",
   "execution_count": null,
   "metadata": {},
   "outputs": [],
   "source": []
  }
 ],
 "metadata": {
  "kernelspec": {
   "display_name": "Python 3",
   "language": "python",
   "name": "python3"
  },
  "language_info": {
   "codemirror_mode": {
    "name": "ipython",
    "version": 3
   },
   "file_extension": ".py",
   "mimetype": "text/x-python",
   "name": "python",
   "nbconvert_exporter": "python",
   "pygments_lexer": "ipython3",
   "version": "3.7.4"
  }
 },
 "nbformat": 4,
 "nbformat_minor": 2
}
